{
 "cells": [
  {
   "cell_type": "code",
   "execution_count": 33,
   "id": "a69ccace",
   "metadata": {},
   "outputs": [
    {
     "name": "stdout",
     "output_type": "stream",
     "text": [
      "============================\n",
      "\n",
      "score estimé du classifier appris = 0.9333333333333333\n",
      "\n",
      "============================\n"
     ]
    }
   ],
   "source": [
    "from sklearn import datasets\n",
    "from sklearn.model_selection import train_test_split\n",
    "import random \n",
    "from sklearn import tree\n",
    "\n",
    "\n",
    "#charge le jeu de données Iris,\n",
    "irisData = datasets.load_iris()\n",
    "#print(irisData.data)\n",
    "#print(irisData.target)\n",
    "\n",
    "\n",
    "#Diviser les données en données d’apprentissage et de test\n",
    "X_train, X_test, y_train, y_test = train_test_split(\n",
    "  irisData.data, irisData.target, test_size=0.3, random_state=random.seed())\n",
    "\n",
    "\n",
    "#Apprend un arbre de décision en utilisant le paramétrage par défaut\n",
    "print(\"============================\\n\")\n",
    "clf = tree.DecisionTreeClassifier()\n",
    "clf.fit(X_train,y_train) \n",
    "\n",
    "print(\"score estimé du classifier appris =\",clf.score(X_test,y_test))\n",
    "print(\"\\n============================\")\n",
    "#print(clf.predict(irisData.data[50,:]))\n",
    "\n",
    "\n",
    "#from sklearn.externals.six import StringIO\n",
    "#tree.export_graphiviz(clt,out_file='D://test')\n"
   ]
  },
  {
   "cell_type": "code",
   "execution_count": null,
   "id": "2e01732a",
   "metadata": {},
   "outputs": [],
   "source": []
  },
  {
   "cell_type": "code",
   "execution_count": null,
   "id": "eaf7edbe",
   "metadata": {},
   "outputs": [],
   "source": []
  }
 ],
 "metadata": {
  "kernelspec": {
   "display_name": "Python 3 (ipykernel)",
   "language": "python",
   "name": "python3"
  },
  "language_info": {
   "codemirror_mode": {
    "name": "ipython",
    "version": 3
   },
   "file_extension": ".py",
   "mimetype": "text/x-python",
   "name": "python",
   "nbconvert_exporter": "python",
   "pygments_lexer": "ipython3",
   "version": "3.9.12"
  }
 },
 "nbformat": 4,
 "nbformat_minor": 5
}
